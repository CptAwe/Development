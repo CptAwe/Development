{
 "cells": [
  {
   "attachments": {},
   "cell_type": "markdown",
   "metadata": {},
   "source": [
    "# Clone all the repos from GitLab"
   ]
  },
  {
   "cell_type": "code",
   "execution_count": null,
   "metadata": {},
   "outputs": [],
   "source": [
    "import re\n",
    "import os\n",
    "import gitlab\n",
    "from git import Repo, Git\n",
    "from dotenv import load_dotenv\n",
    "\n",
    "load_dotenv(\".env\")"
   ]
  },
  {
   "cell_type": "code",
   "execution_count": 2,
   "metadata": {},
   "outputs": [],
   "source": [
    "# GitLab\n",
    "\n",
    "GITLAB_PERSONAL_TOKEN = {\n",
    "    \"title\": \"mine\",\n",
    "    \"key\": os.getenv(\"GITLAB_TOKEN\")\n",
    "}\n",
    "\n",
    "gl = gitlab.Gitlab(\n",
    "    private_token=GITLAB_PERSONAL_TOKEN[\"key\"]\n",
    ")\n",
    "gl.auth()\n",
    "\n",
    "\n",
    "SSH_CMD = f\"ssh -i {os.getenv('SSH_PRV_KEY_FILE')}\""
   ]
  },
  {
   "cell_type": "code",
   "execution_count": 3,
   "metadata": {},
   "outputs": [],
   "source": [
    "# Check if the local repos are synced with the remotes\n",
    "\n",
    "SOURCE_CODE_DIR = os.getenv(\"SOURCE_CODE_DIR\")\n",
    "\n",
    "local_repos_dirs = []\n",
    "\n",
    "for tmp in os.walk(SOURCE_CODE_DIR):\n",
    "    # find all the folders with a .git directory inside\n",
    "    if \".git\" in tmp[-2]:\n",
    "        local_repos_dirs.append(tmp[0])\n"
   ]
  },
  {
   "cell_type": "code",
   "execution_count": 4,
   "metadata": {},
   "outputs": [],
   "source": [
    "# Fetch the remote projects\n",
    "\n",
    "origin_projects = []\n",
    "\n",
    "for group in gl.groups.list(get_all=True):\n",
    "    projects = group.projects.list(get_all=True)\n",
    "    if os.getenv('PROJECT_NAMESPACE') not in group.web_url.lower(): continue\n",
    "    for project in projects:\n",
    "        origin_projects.append(project)\n"
   ]
  },
  {
   "cell_type": "code",
   "execution_count": null,
   "metadata": {},
   "outputs": [],
   "source": [
    "# Check that there is no remote projects missing locally\n",
    "\n",
    "if len(origin_projects) == len(local_repos_dirs):\n",
    "    print(f\"All the {len(origin_projects)} remote repos are saved locally\")\n",
    "    \n",
    "    # # Check what local repos are not up to date or have issues being synced\n",
    "    # for local_repo_dir in local_repos_dirs:\n",
    "\n",
    "    #     with Git().custom_environment(GIT_SSH_COMMAND=SSH_CMD):\n",
    "            \n",
    "    #         print(f\"Fetching {local_repo_dir}... \")\n",
    "\n",
    "    #         try:\n",
    "    #             repo = Repo(local_repo_dir)\n",
    "    #             repo_origin = repo.remotes.origin\n",
    "    #             repo_origin.pull()\n",
    "    #             print(\"Pulled!\")\n",
    "    #         except Exception as e:\n",
    "    #             print(f\"Error: {e.args}\")\n",
    "\n",
    "else:\n",
    "    print(f\"There are {len(local_repos_dirs)} local repos vs {len(origin_projects)} remote\")\n",
    "\n"
   ]
  },
  {
   "cell_type": "code",
   "execution_count": 6,
   "metadata": {},
   "outputs": [],
   "source": [
    "projects4cloning = {}\n",
    "\n",
    "for project in origin_projects:\n",
    "    ssh_link = project.ssh_url_to_repo\n",
    "    repo_dir = project.path_with_namespace.replace(f\"{os.getenv('PROJECT_NAMESPACE')}/\", \"\", 1)\n",
    "    repo_name = re.findall(\"\\/(\\S*).git\", ssh_link)[0]\n",
    "\n",
    "    projects4cloning[repo_name.replace(\"-\", \"_\")] = {\n",
    "        \"ssh_link\": ssh_link,\n",
    "        \"repo_dir\": repo_dir\n",
    "    }\n"
   ]
  },
  {
   "cell_type": "code",
   "execution_count": 7,
   "metadata": {},
   "outputs": [],
   "source": [
    "# clone all the repos\n",
    "\n",
    "SSH_CMD = f\"ssh -i {os.getenv('SSH_PRV_KEY_FILE')}\"\n",
    "\n",
    "def git_sync(repo_name, ssh_repo_link, repo_directory):\n",
    "    '''Either clones or pulls the repo'''\n",
    "\n",
    "    with Git().custom_environment(GIT_SSH_COMMAND=SSH_CMD):\n",
    "        print(f\"Fetching {repo_name} in {repo_directory}... \")\n",
    "        full_repo_dir = os.path.join(SOURCE_CODE_DIR, repo_directory)\n",
    "\n",
    "        # Clone a new repo\n",
    "        clone_exception = None\n",
    "        try:\n",
    "            # print(\"Cloning... \", end=\"\")\n",
    "            Repo.clone_from(ssh_repo_link, full_repo_dir)\n",
    "            msg = \"Cloned!\"\n",
    "            return {\"status\": True, \"message\": {\"text\": msg, \"details\": None}}\n",
    "        except Exception as e:\n",
    "            clone_exception = e\n",
    "            pass\n",
    "\n",
    "        if clone_exception.status == 128:\n",
    "            # Repo already exists, pull the latest\n",
    "            # print(\"Pulling... \", end=\"\")\n",
    "\n",
    "            pulling_exception = None\n",
    "            try:\n",
    "                repo = Repo(full_repo_dir)\n",
    "                repo_origin = repo.remotes.origin\n",
    "                repo_origin.pull()\n",
    "                msg = \"Pulled!\"\n",
    "                return {\"status\": True, \"message\": {\"text\": msg, \"details\": None}}\n",
    "            except Exception as e:\n",
    "                pulling_exception = e\n",
    "\n",
    "        if clone_exception or pulling_exception:\n",
    "            raised_exception = {\"exc\": pulling_exception, \"msg\": \"Pulling\"} if pulling_exception else {\"exc\": clone_exception, \"msg\": \"Clone\"}\n",
    "            msg = f\"{raised_exception['msg']} error: {raised_exception['exc']}\"\n",
    "            return {\"status\": False, \"message\": {\"text\": msg, \"details\": raised_exception['exc']}}\n",
    "\n"
   ]
  },
  {
   "cell_type": "code",
   "execution_count": 8,
   "metadata": {},
   "outputs": [],
   "source": [
    "error_repos = []\n",
    "\n",
    "def git_sync_error_callback(error):\n",
    "    global error_repos\n",
    "    error_repos.append(error)\n",
    "\n",
    "    print(f'Error: {error[\"repo\"]}, {error[\"directory\"]}: {error[\"error\"]}')"
   ]
  },
  {
   "cell_type": "code",
   "execution_count": 9,
   "metadata": {},
   "outputs": [],
   "source": [
    "def git_sync_callback(git_sync_results):\n",
    "    '''Shows what cloning or pulling did'''\n",
    "\n",
    "    if git_sync_results[\"status\"]:\n",
    "        # syncing was successful\n",
    "        print(git_sync_results[\"message\"][\"text\"])\n",
    "    else:\n",
    "        # errors were raised\n",
    "        print(f'#############{git_sync_results[\"message\"][\"text\"]}: {git_sync_results[\"message\"][\"details\"].args}')\n",
    "        # git_sync_error_callback(git_sync_results)"
   ]
  },
  {
   "cell_type": "code",
   "execution_count": null,
   "metadata": {},
   "outputs": [],
   "source": [
    "# Make the cloning multithreaded\n",
    "\n",
    "from multiprocessing.pool import ThreadPool\n",
    "\n",
    "pool = ThreadPool()\n",
    "\n",
    "for name in projects4cloning:\n",
    "    repo = projects4cloning[name]\n",
    "    pool.apply_async(\n",
    "        git_sync,\n",
    "        ( name, repo['ssh_link'], repo['repo_dir'] ),\n",
    "        callback=git_sync_callback,\n",
    "        # error_callback=git_sync_error_callback\n",
    "    )\n",
    "\n",
    "pool.close()\n",
    "pool.join()\n",
    "\n",
    "print(\"Finished the clone\")\n",
    "    \n"
   ]
  },
  {
   "cell_type": "code",
   "execution_count": null,
   "metadata": {},
   "outputs": [],
   "source": [
    "error_repos"
   ]
  }
 ],
 "metadata": {
  "kernelspec": {
   "display_name": ".venv",
   "language": "python",
   "name": "python3"
  },
  "language_info": {
   "codemirror_mode": {
    "name": "ipython",
    "version": 3
   },
   "file_extension": ".py",
   "mimetype": "text/x-python",
   "name": "python",
   "nbconvert_exporter": "python",
   "pygments_lexer": "ipython3",
   "version": "3.7.17"
  },
  "orig_nbformat": 4
 },
 "nbformat": 4,
 "nbformat_minor": 2
}
